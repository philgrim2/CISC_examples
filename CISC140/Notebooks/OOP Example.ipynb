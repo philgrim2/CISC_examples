{
 "cells": [
  {
   "cell_type": "code",
   "execution_count": 71,
   "metadata": {},
   "outputs": [],
   "source": [
    "class Foo:\n",
    "    _instanceVariable = 0\n",
    "    __secretVariable = 4\n",
    "    \n",
    "    def __init__(self, iv, sv):\n",
    "        self._instanceVariable = iv\n",
    "        self.__secretVariable = sv\n",
    "        \n",
    "    def setInstanceVariable(self, val):\n",
    "        self._instanceVariable = val\n",
    "        \n",
    "    def getInstanceVariable(self):\n",
    "        return self._instanceVariable\n",
    "    \n",
    "    def setSecretVariable(self, val):\n",
    "        self.__secretVariable = val\n",
    "        \n",
    "    def getSecretVariable(self):\n",
    "        return self.__secretVariable\n",
    "    \n",
    "    def __str__(self):\n",
    "        return 'inst: ' + str(self._instanceVariable) + ' , secr: ' + str(self.__secretVariable)\n",
    "    \n",
    "    def __eq__(self, other):\n",
    "        return self._instanceVariable == other.getInstanceVariable() and self.__secretVariable == other.getSecretVariable()\n",
    "    \n",
    "    def __lt__(self, other):\n",
    "        return self._instanceVariable < other.getInstanceVariable() and self.__secretVariable < other.getSecretVariable()\n",
    "\n",
    "    def __le__(self, other):\n",
    "        return self._instanceVariable <= other.getInstanceVariable() and self.__secretVariable <= other.getSecretVariable()\n",
    "    \n",
    "    def __add__(self, other):\n",
    "        return Foo(self._instanceVariable + other.getInstanceVariable(), self.__secretVariable + other.getSecretVariable())\n",
    "    \n",
    "    def __mul__(self, other):\n",
    "        return Foo(self._instanceVariable * other.getInstanceVariable(), self.__secretVariable * other.getSecretVariable())\n",
    "    \n",
    "    def __len__(self):\n",
    "        return self.__secretVariable"
   ]
  },
  {
   "cell_type": "code",
   "execution_count": 72,
   "metadata": {},
   "outputs": [],
   "source": [
    "foo1 = Foo(5, 4)\n",
    "foo2 = Foo(7, 3)\n",
    "foo3 = Foo(7, 3)\n",
    "foo4 = Foo(9, 5)"
   ]
  },
  {
   "cell_type": "code",
   "execution_count": 73,
   "metadata": {
    "scrolled": true
   },
   "outputs": [
    {
     "name": "stdout",
     "output_type": "stream",
     "text": [
      "inst: 5 , secr: 4\n",
      "Equal\n",
      "greater\n",
      "gte\n"
     ]
    }
   ],
   "source": [
    "print(foo1)\n",
    "\n",
    "if foo1 == foo2:\n",
    "    print('Equal')\n",
    "    \n",
    "if foo2 == foo3:\n",
    "    print('Equal')\n",
    "\n",
    "if foo4 > foo1:\n",
    "    print('greater')\n",
    "\n",
    "if foo1 <= foo2:\n",
    "    print(\"lte\")\n",
    "\n",
    "if foo2 >= foo2:\n",
    "    print(\"gte\")"
   ]
  },
  {
   "cell_type": "code",
   "execution_count": 74,
   "metadata": {},
   "outputs": [
    {
     "name": "stdout",
     "output_type": "stream",
     "text": [
      "inst: 35 , secr: 12\n"
     ]
    }
   ],
   "source": [
    "print(foo1 * foo2)"
   ]
  },
  {
   "cell_type": "code",
   "execution_count": 75,
   "metadata": {},
   "outputs": [
    {
     "name": "stdout",
     "output_type": "stream",
     "text": [
      "4\n"
     ]
    }
   ],
   "source": [
    "print(len(foo1))"
   ]
  },
  {
   "cell_type": "code",
   "execution_count": null,
   "metadata": {},
   "outputs": [],
   "source": []
  }
 ],
 "metadata": {
  "kernelspec": {
   "display_name": "Python 3",
   "language": "python",
   "name": "python3"
  },
  "language_info": {
   "codemirror_mode": {
    "name": "ipython",
    "version": 3
   },
   "file_extension": ".py",
   "mimetype": "text/x-python",
   "name": "python",
   "nbconvert_exporter": "python",
   "pygments_lexer": "ipython3",
   "version": "3.8.3"
  }
 },
 "nbformat": 4,
 "nbformat_minor": 4
}
