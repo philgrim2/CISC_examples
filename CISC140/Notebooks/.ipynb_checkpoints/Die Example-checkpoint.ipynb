{
 "cells": [
  {
   "cell_type": "code",
   "execution_count": 8,
   "metadata": {},
   "outputs": [],
   "source": [
    "import random\n",
    "\n",
    "class Die:\n",
    "    \n",
    "    def __init__(self, sides = 6):\n",
    "        self._sides = sides\n",
    "        self._value = random.randint(1, self._sides)\n",
    "                \n",
    "    def getSides(self):\n",
    "        return self._sides\n",
    "    \n",
    "    def getValue(self):\n",
    "        return self._value\n",
    "    \n",
    "    def roll(self):\n",
    "        self._value = random.randint(1, self._sides)\n",
    "        return self._value"
   ]
  },
  {
   "cell_type": "code",
   "execution_count": 12,
   "metadata": {},
   "outputs": [
    {
     "name": "stdout",
     "output_type": "stream",
     "text": [
      "8\n",
      "4\n",
      "4\n"
     ]
    }
   ],
   "source": [
    "x = Die(8)\n",
    "print(x.getValue())\n",
    "print(x.roll())\n",
    "print(x.getValue())"
   ]
  },
  {
   "cell_type": "code",
   "execution_count": null,
   "metadata": {},
   "outputs": [],
   "source": []
  }
 ],
 "metadata": {
  "kernelspec": {
   "display_name": "Python 3 (ipykernel)",
   "language": "python",
   "name": "python3"
  },
  "language_info": {
   "codemirror_mode": {
    "name": "ipython",
    "version": 3
   },
   "file_extension": ".py",
   "mimetype": "text/x-python",
   "name": "python",
   "nbconvert_exporter": "python",
   "pygments_lexer": "ipython3",
   "version": "3.8.8"
  }
 },
 "nbformat": 4,
 "nbformat_minor": 4
}
