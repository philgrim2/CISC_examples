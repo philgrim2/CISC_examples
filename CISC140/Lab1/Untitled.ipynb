{
 "cells": [
  {
   "cell_type": "code",
   "execution_count": 1,
   "id": "3b3cfca7",
   "metadata": {},
   "outputs": [],
   "source": [
    "import sys\n",
    "import time\n",
    "import stdio\n",
    "\n",
    "class Stopwatch:\n",
    "\n",
    "    # Construct self and start it running.\n",
    "    def __init__(self):\n",
    "        self._creationTime = time.time()  # Creation time\n",
    "\n",
    "    # Return the elapsed time since creation of self, in seconds.\n",
    "    def elapsedTime(self):\n",
    "        return time.time() - self._creationTime"
   ]
  },
  {
   "cell_type": "code",
   "execution_count": null,
   "id": "b569464b",
   "metadata": {},
   "outputs": [],
   "source": [
    "n = 10000\n",
    "    \n",
    "total1 = 0.0\n",
    "watch1 = Stopwatch()\n",
    "for i in range(1, n+1):\n",
    "        total1 += i**2\n",
    "time1 = watch1.elapsedTime()\n",
    "    \n",
    "total2 = 0.0\n",
    "watch2 = Stopwatch()\n",
    "for i in range(1, n+1):\n",
    "    total2 += i*i\n",
    "time2 = watch2.elapsedTime()\n",
    "    \n",
    "stdio.writeln(total1/total2)\n",
    "stdio.writeln(time1/time2)"
   ]
  }
 ],
 "metadata": {
  "kernelspec": {
   "display_name": "Python 3 (ipykernel)",
   "language": "python",
   "name": "python3"
  },
  "language_info": {
   "codemirror_mode": {
    "name": "ipython",
    "version": 3
   },
   "file_extension": ".py",
   "mimetype": "text/x-python",
   "name": "python",
   "nbconvert_exporter": "python",
   "pygments_lexer": "ipython3",
   "version": "3.8.8"
  }
 },
 "nbformat": 4,
 "nbformat_minor": 5
}
