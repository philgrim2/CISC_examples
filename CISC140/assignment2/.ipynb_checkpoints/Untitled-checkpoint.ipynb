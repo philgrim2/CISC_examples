{
 "cells": [
  {
   "cell_type": "code",
   "execution_count": 5,
   "id": "74c34d43",
   "metadata": {},
   "outputs": [],
   "source": [
    "import stdio\n",
    "\n",
    "class Animal:\n",
    "    NUM_LEGS = 4\n",
    "\n",
    "    def __init__(self, name):\n",
    "        self._name = name\n",
    "    \n",
    "    def makeNoise(self):\n",
    "        stdio.writeln(\"Animal noise\")\n",
    "        \n",
    "    def numLegs(self):\n",
    "        return self.NUM_LEGS\n",
    "    \n",
    "    def getName(self):\n",
    "        return self._name"
   ]
  },
  {
   "cell_type": "code",
   "execution_count": 6,
   "id": "bb1188b4",
   "metadata": {},
   "outputs": [
    {
     "name": "stdout",
     "output_type": "stream",
     "text": [
      "Animal noise\n"
     ]
    }
   ],
   "source": [
    "animal = Animal(\"Dave\")\n",
    "\n",
    "animal.makeNoise()"
   ]
  },
  {
   "cell_type": "code",
   "execution_count": 7,
   "id": "ffd6bfc6",
   "metadata": {},
   "outputs": [],
   "source": [
    "class Dog(Animal):\n",
    "    \n",
    "    def __init__(self, name):\n",
    "        super().__init__(name)\n",
    "        \n",
    "    def makeNoise(self):\n",
    "        stdio.writeln(\"Woof!\")\n",
    "    "
   ]
  },
  {
   "cell_type": "code",
   "execution_count": 8,
   "id": "312ae2ac",
   "metadata": {},
   "outputs": [
    {
     "name": "stdout",
     "output_type": "stream",
     "text": [
      "Woof!\n",
      "4\n"
     ]
    }
   ],
   "source": [
    "fido = Dog(\"Fido\")\n",
    "\n",
    "fido.makeNoise()\n",
    "stdio.writeln(str(fido.numLegs()))"
   ]
  },
  {
   "cell_type": "code",
   "execution_count": 10,
   "id": "b5092a81",
   "metadata": {},
   "outputs": [
    {
     "name": "stdout",
     "output_type": "stream",
     "text": [
      "Animal noise\n"
     ]
    }
   ],
   "source": [
    "fido.__class__ = Animal\n",
    "fido.makeNoise()"
   ]
  },
  {
   "cell_type": "code",
   "execution_count": 11,
   "id": "d560ceb4",
   "metadata": {},
   "outputs": [
    {
     "ename": "SyntaxError",
     "evalue": "unexpected EOF while parsing (<ipython-input-11-c693fbfa5271>, line 3)",
     "output_type": "error",
     "traceback": [
      "\u001b[1;36m  File \u001b[1;32m\"<ipython-input-11-c693fbfa5271>\"\u001b[1;36m, line \u001b[1;32m3\u001b[0m\n\u001b[1;33m    \u001b[0m\n\u001b[1;37m    ^\u001b[0m\n\u001b[1;31mSyntaxError\u001b[0m\u001b[1;31m:\u001b[0m unexpected EOF while parsing\n"
     ]
    }
   ],
   "source": [
    "class Cat(Animal):\n",
    "    def __init__(self, name):\n",
    "        super().__init__(name)\n",
    "        \n",
    "    def makeNoise(self):\n",
    "        stdio.writeln(\"Meow!\")\n",
    "        \n",
    "    def hiss(self):\n",
    "        stdio.writeln(\"Hiss!\")\n",
    "    "
   ]
  }
 ],
 "metadata": {
  "kernelspec": {
   "display_name": "Python 3",
   "language": "python",
   "name": "python3"
  },
  "language_info": {
   "codemirror_mode": {
    "name": "ipython",
    "version": 3
   },
   "file_extension": ".py",
   "mimetype": "text/x-python",
   "name": "python",
   "nbconvert_exporter": "python",
   "pygments_lexer": "ipython3",
   "version": "3.8.8"
  }
 },
 "nbformat": 4,
 "nbformat_minor": 5
}
