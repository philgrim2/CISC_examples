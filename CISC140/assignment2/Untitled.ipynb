{
 "cells": [
  {
   "cell_type": "code",
   "execution_count": 5,
   "id": "c1871ba7",
   "metadata": {},
   "outputs": [],
   "source": [
    "import stdio\n",
    "\n",
    "class Animal:\n",
    "    NUM_LEGS = 4\n",
    "\n",
    "    def __init__(self, name):\n",
    "        self._name = name\n",
    "    \n",
    "    def makeNoise(self):\n",
    "        stdio.writeln(\"Animal noise\")\n",
    "        \n",
    "    def numLegs(self):\n",
    "        return self.NUM_LEGS\n",
    "    \n",
    "    def getName(self):\n",
    "        return self._name"
   ]
  },
  {
   "cell_type": "code",
   "execution_count": 6,
   "id": "d3b8920e",
   "metadata": {},
   "outputs": [
    {
     "name": "stdout",
     "output_type": "stream",
     "text": [
      "Animal noise\n"
     ]
    }
   ],
   "source": [
    "animal = Animal(\"Dave\")\n",
    "\n",
    "animal.makeNoise()"
   ]
  },
  {
   "cell_type": "code",
   "execution_count": 7,
   "id": "0ae230b9",
   "metadata": {},
   "outputs": [],
   "source": [
    "class Dog(Animal):\n",
    "    \n",
    "    def __init__(self, name):\n",
    "        super().__init__(name)\n",
    "        \n",
    "    def makeNoise(self):\n",
    "        stdio.writeln(\"Woof!\")\n",
    "    "
   ]
  },
  {
   "cell_type": "code",
   "execution_count": 8,
   "id": "e73a8e15",
   "metadata": {},
   "outputs": [
    {
     "name": "stdout",
     "output_type": "stream",
     "text": [
      "Woof!\n",
      "4\n"
     ]
    }
   ],
   "source": [
    "fido = Dog(\"Fido\")\n",
    "\n",
    "fido.makeNoise()\n",
    "stdio.writeln(str(fido.numLegs()))"
   ]
  },
  {
   "cell_type": "code",
   "execution_count": 10,
   "id": "b92ae0ae",
   "metadata": {},
   "outputs": [
    {
     "name": "stdout",
     "output_type": "stream",
     "text": [
      "Animal noise\n"
     ]
    }
   ],
   "source": [
    "fido.__class__ = Animal\n",
    "fido.makeNoise()"
   ]
  },
  {
   "cell_type": "code",
   "execution_count": 12,
   "id": "73abf255",
   "metadata": {},
   "outputs": [],
   "source": [
    "class Cat(Animal):\n",
    "    def __init__(self, name):\n",
    "        super().__init__(name)\n",
    "        \n",
    "    def makeNoise(self):\n",
    "        stdio.writeln(\"Meow!\")\n",
    "        \n",
    "    def hiss(self):\n",
    "        stdio.writeln(\"Hiss!\")\n",
    "    "
   ]
  },
  {
   "cell_type": "code",
   "execution_count": 13,
   "id": "823c1778",
   "metadata": {},
   "outputs": [
    {
     "name": "stdout",
     "output_type": "stream",
     "text": [
      "Hiss!\n"
     ]
    }
   ],
   "source": [
    "oreo = Cat(\"Oreo\")\n",
    "\n",
    "oreo.hiss()"
   ]
  },
  {
   "cell_type": "code",
   "execution_count": null,
   "id": "8a5ed56f",
   "metadata": {},
   "outputs": [],
   "source": []
  }
 ],
 "metadata": {
  "kernelspec": {
   "display_name": "Python 3",
   "language": "python",
   "name": "python3"
  },
  "language_info": {
   "codemirror_mode": {
    "name": "ipython",
    "version": 3
   },
   "file_extension": ".py",
   "mimetype": "text/x-python",
   "name": "python",
   "nbconvert_exporter": "python",
   "pygments_lexer": "ipython3",
   "version": "3.8.8"
  }
 },
 "nbformat": 4,
 "nbformat_minor": 5
}
