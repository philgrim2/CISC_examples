{
 "cells": [
  {
   "cell_type": "code",
   "execution_count": 5,
   "id": "d0b4a77e",
   "metadata": {},
   "outputs": [],
   "source": [
    "import pandas as pd\n",
    "\n",
    "walmart = pd.read_csv('walmart_2018_11_06.csv')\n",
    "walmart.to_json('walmart_store_locations.json', orient='records')"
   ]
  },
  {
   "cell_type": "code",
   "execution_count": 8,
   "id": "98c0f50f",
   "metadata": {},
   "outputs": [],
   "source": [
    "spotify = pd.read_csv('Holiday_Songs_Spotify.csv', encoding='latin-1')\n",
    "spotify.to_json('holiday_songs_spotify.json', orient='records')"
   ]
  },
  {
   "cell_type": "code",
   "execution_count": null,
   "id": "6d6e54de",
   "metadata": {},
   "outputs": [],
   "source": []
  }
 ],
 "metadata": {
  "kernelspec": {
   "display_name": "Python 3 (ipykernel)",
   "language": "python",
   "name": "python3"
  },
  "language_info": {
   "codemirror_mode": {
    "name": "ipython",
    "version": 3
   },
   "file_extension": ".py",
   "mimetype": "text/x-python",
   "name": "python",
   "nbconvert_exporter": "python",
   "pygments_lexer": "ipython3",
   "version": "3.11.5"
  }
 },
 "nbformat": 4,
 "nbformat_minor": 5
}
