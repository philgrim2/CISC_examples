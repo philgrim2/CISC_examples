{
 "cells": [
  {
   "cell_type": "code",
   "execution_count": 4,
   "id": "eb5fb900",
   "metadata": {},
   "outputs": [
    {
     "name": "stdout",
     "output_type": "stream",
     "text": [
      "% start S\n",
      "S[SEM=(?np + WHERE + ?vp)] -> NP[SEM=?np] VP[SEM=?vp]\n",
      "VP[SEM=(?v + ?pp)] -> IV[SEM=?v] PP[SEM=?pp]\n",
      "VP[SEM=(?v + ?ap)] -> IV[SEM=?v] AP[SEM=?ap]\n",
      "NP[SEM=(?det + ?n)] -> Det[SEM=?det] N[SEM=?n]\n",
      "PP[SEM=(?p + ?np)] -> P[SEM=?p] NP[SEM=?np]\n",
      "AP[SEM=?pp] -> A[SEM=?a] PP[SEM=?pp]\n",
      "NP[SEM='Country=\"greece\"'] -> 'Greece'\n",
      "NP[SEM='Country=\"china\"'] -> 'China'\n",
      "Det[SEM='SELECT'] -> 'Which' | 'What'\n",
      "N[SEM='City FROM city_table'] -> 'cities'\n",
      "IV[SEM=''] -> 'are'\n",
      "A[SEM=''] -> 'located'\n",
      "P[SEM=''] -> 'in'\n"
     ]
    }
   ],
   "source": [
    "import nltk\n",
    "\n",
    "nltk.data.show_cfg('grammars/book_grammars/sql0.fcfg')"
   ]
  },
  {
   "cell_type": "code",
   "execution_count": 7,
   "id": "39cedb21",
   "metadata": {},
   "outputs": [
    {
     "name": "stdout",
     "output_type": "stream",
     "text": [
      "SELECT City FROM city_table WHERE Country=\"greece\"\n"
     ]
    }
   ],
   "source": [
    "from nltk import load_parser\n",
    "cp = load_parser('grammars/book_grammars/sql0.fcfg')\n",
    "query = 'What cities are located in Greece'\n",
    "trees = list(cp.parse(query.split()))\n",
    "answer = trees[0].label()['SEM']\n",
    "answer = [s for s in answer if s]\n",
    "q = ' '.join(answer)\n",
    "print(q)"
   ]
  },
  {
   "cell_type": "code",
   "execution_count": 8,
   "id": "b434160c",
   "metadata": {},
   "outputs": [
    {
     "name": "stdout",
     "output_type": "stream",
     "text": [
      "athens "
     ]
    }
   ],
   "source": [
    "from nltk.sem import chat80\n",
    "rows = chat80.sql_query('corpora/city_database/city.db', q)\n",
    "for r in rows: print(r[0], end=\" \")"
   ]
  },
  {
   "cell_type": "code",
   "execution_count": 53,
   "id": "7719acff",
   "metadata": {},
   "outputs": [],
   "source": [
    "gram = nltk.grammar.FeatureGrammar.fromstring(\"\"\"\n",
    "% start S\n",
    "S[SEM=(?np + WHERE + ?vp)] -> NP[SEM=?np] VP[SEM=?vp]\n",
    "VP[SEM=(?v + ?pp)] -> IV[SEM=?v] PP[SEM=?pp]\n",
    "VP[SEM=(?v + ?ap)] -> IV[SEM=?v] AP[SEM=?ap]\n",
    "NP[SEM=(?det + City + ?n)] -> Det[AGR= 'w',SEM=?det] N[WC= 'City', SEM=?n]\n",
    "NP[SEM=(?det + Country + ?n)] -> Det[AGR= 'w',SEM=?det] N[WC= 'Country', SEM=?n]\n",
    "NP[SEM=(?det + ?a + ?n)] -> Det[AGR= 'h', SEM=?det] A[SEM=?a] N[SEM=?n]\n",
    "PP[SEM=(?p + ?np)] -> P[SEM=?p] NP[SEM=?np]\n",
    "PP[SEM=(?np + ?p)] -> NP[SEM=?np] P[SEM=?p]\n",
    "PP[SEM=(?p)] -> P[SEM=?p]\n",
    " \n",
    "AP[SEM=?pp] -> A[SEM=?a] PP[SEM=?pp]\n",
    "AP[SEM=(?np +?ap)] -> NP[SEM =?np] AP[SEM=?ap]\n",
    "NP[SEM='Country=\"greece\"'] -> 'Greece'\n",
    "NP[SEM='Country=\"china\"'] -> 'China'\n",
    "NP[SEM='City= \"athens\"'] -> 'Athens'\n",
    "Det[AGR ='w', SEM='SELECT'] -> 'Which' | 'What' \n",
    "Det[AGR ='h', SEM='SELECT'] -> 'How'\n",
    "N[WC ='City', SEM='FROM city_table'] -> 'cities'\n",
    "N[WC ='Country', SEM='FROM city_table'] -> 'country'\n",
    "A[SEM=' count(*)'] -> 'many'\n",
    "IV[SEM=''] -> 'are'|'is'\n",
    "A[SEM=''] -> 'located'\n",
    "P[SEM=''] -> 'in'\n",
    " \n",
    "\"\"\")"
   ]
  },
  {
   "cell_type": "code",
   "execution_count": null,
   "id": "adb4a195",
   "metadata": {},
   "outputs": [],
   "source": []
  },
  {
   "cell_type": "code",
   "execution_count": 59,
   "id": "378f3fac",
   "metadata": {},
   "outputs": [
    {
     "name": "stdout",
     "output_type": "stream",
     "text": [
      "SELECT City FROM city_table WHERE Country=\"greece\"\n"
     ]
    }
   ],
   "source": [
    "query = 'Which cities are located in Greece'\n",
    "#query = 'How many cities are located in Greece'\n",
    "#query = 'What country is Athens located in'\n",
    "\n",
    "parser = nltk.parse.FeatureEarleyChartParser(gram)\n",
    "trees = list(parser.parse(query.split()))\n",
    "answer = trees[0].label()['SEM']\n",
    "answer = [s for s in answer if s]\n",
    "q = ' '.join(answer)\n",
    "print(q)\n"
   ]
  },
  {
   "cell_type": "code",
   "execution_count": null,
   "id": "85c07182",
   "metadata": {},
   "outputs": [],
   "source": []
  }
 ],
 "metadata": {
  "kernelspec": {
   "display_name": "Python 3 (ipykernel)",
   "language": "python",
   "name": "python3"
  },
  "language_info": {
   "codemirror_mode": {
    "name": "ipython",
    "version": 3
   },
   "file_extension": ".py",
   "mimetype": "text/x-python",
   "name": "python",
   "nbconvert_exporter": "python",
   "pygments_lexer": "ipython3",
   "version": "3.8.8"
  }
 },
 "nbformat": 4,
 "nbformat_minor": 5
}
