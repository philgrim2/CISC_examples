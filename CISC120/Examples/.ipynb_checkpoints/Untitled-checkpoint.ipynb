{
 "cells": [
  {
   "cell_type": "code",
   "execution_count": 1,
   "id": "9baf8dcd",
   "metadata": {},
   "outputs": [
    {
     "name": "stdout",
     "output_type": "stream",
     "text": [
      "pygame 2.0.1 (SDL 2.0.14, Python 3.8.8)\n",
      "Hello from the pygame community. https://www.pygame.org/contribute.html\n"
     ]
    },
    {
     "ename": "ValueError",
     "evalue": "Array must be 2-dimensional for stereo mixer",
     "output_type": "error",
     "traceback": [
      "\u001b[1;31m---------------------------------------------------------------------------\u001b[0m",
      "\u001b[1;31mAttributeError\u001b[0m                            Traceback (most recent call last)",
      "File \u001b[1;32m~\\anaconda3\\lib\\site-packages\\pygame\\sndarray.py:94\u001b[0m, in \u001b[0;36mmake_sound\u001b[1;34m(array)\u001b[0m\n\u001b[0;32m     93\u001b[0m \u001b[38;5;28;01mtry\u001b[39;00m:\n\u001b[1;32m---> 94\u001b[0m     \u001b[38;5;28;01mreturn\u001b[39;00m \u001b[43mnumpysnd\u001b[49m\u001b[38;5;241;43m.\u001b[39;49m\u001b[43mmake_sound\u001b[49m(array)\n\u001b[0;32m     95\u001b[0m \u001b[38;5;28;01mexcept\u001b[39;00m \u001b[38;5;167;01mAttributeError\u001b[39;00m:\n",
      "\u001b[1;31mAttributeError\u001b[0m: 'NoneType' object has no attribute 'make_sound'",
      "\nDuring handling of the above exception, another exception occurred:\n",
      "\u001b[1;31mValueError\u001b[0m                                Traceback (most recent call last)",
      "Cell \u001b[1;32mIn[1], line 11\u001b[0m\n\u001b[0;32m      9\u001b[0m \u001b[38;5;28;01mfor\u001b[39;00m i \u001b[38;5;129;01min\u001b[39;00m \u001b[38;5;28mrange\u001b[39m(n\u001b[38;5;241m+\u001b[39m\u001b[38;5;241m1\u001b[39m):\n\u001b[0;32m     10\u001b[0m     a[i] \u001b[38;5;241m=\u001b[39m math\u001b[38;5;241m.\u001b[39msin(\u001b[38;5;241m2.0\u001b[39m \u001b[38;5;241m*\u001b[39m math\u001b[38;5;241m.\u001b[39mpi \u001b[38;5;241m*\u001b[39m i \u001b[38;5;241m*\u001b[39m hz \u001b[38;5;241m/\u001b[39m SPS)\n\u001b[1;32m---> 11\u001b[0m \u001b[43mstdaudio\u001b[49m\u001b[38;5;241;43m.\u001b[39;49m\u001b[43mplaySamples\u001b[49m\u001b[43m(\u001b[49m\u001b[43ma\u001b[49m\u001b[43m)\u001b[49m\n\u001b[0;32m     12\u001b[0m stdaudio\u001b[38;5;241m.\u001b[39mwait()\n",
      "File \u001b[1;32m~\\AppData\\Roaming\\Python\\Python38\\site-packages\\stdaudio.py:61\u001b[0m, in \u001b[0;36mplaySamples\u001b[1;34m(a)\u001b[0m\n\u001b[0;32m     57\u001b[0m \u001b[38;5;124;03m\"\"\"\u001b[39;00m\n\u001b[0;32m     58\u001b[0m \u001b[38;5;124;03mPlay all sound samples in array a.\u001b[39;00m\n\u001b[0;32m     59\u001b[0m \u001b[38;5;124;03m\"\"\"\u001b[39;00m\n\u001b[0;32m     60\u001b[0m \u001b[38;5;28;01mfor\u001b[39;00m sample \u001b[38;5;129;01min\u001b[39;00m a:\n\u001b[1;32m---> 61\u001b[0m     \u001b[43mplaySample\u001b[49m\u001b[43m(\u001b[49m\u001b[43msample\u001b[49m\u001b[43m)\u001b[49m\n",
      "File \u001b[1;32m~\\AppData\\Roaming\\Python\\Python38\\site-packages\\stdaudio.py:51\u001b[0m, in \u001b[0;36mplaySample\u001b[1;34m(s)\u001b[0m\n\u001b[0;32m     49\u001b[0m     temp\u001b[38;5;241m.\u001b[39mappend(numpy\u001b[38;5;241m.\u001b[39mint16(sample \u001b[38;5;241m*\u001b[39m \u001b[38;5;28mfloat\u001b[39m(\u001b[38;5;241m0x7fff\u001b[39m)))\n\u001b[0;32m     50\u001b[0m samples \u001b[38;5;241m=\u001b[39m numpy\u001b[38;5;241m.\u001b[39marray(temp, numpy\u001b[38;5;241m.\u001b[39mint16)\n\u001b[1;32m---> 51\u001b[0m sound \u001b[38;5;241m=\u001b[39m \u001b[43mpygame\u001b[49m\u001b[38;5;241;43m.\u001b[39;49m\u001b[43msndarray\u001b[49m\u001b[38;5;241;43m.\u001b[39;49m\u001b[43mmake_sound\u001b[49m\u001b[43m(\u001b[49m\u001b[43msamples\u001b[49m\u001b[43m)\u001b[49m\n\u001b[0;32m     52\u001b[0m wait()\n\u001b[0;32m     53\u001b[0m _channel\u001b[38;5;241m.\u001b[39mqueue(sound)\n",
      "File \u001b[1;32m~\\anaconda3\\lib\\site-packages\\pygame\\sndarray.py:97\u001b[0m, in \u001b[0;36mmake_sound\u001b[1;34m(array)\u001b[0m\n\u001b[0;32m     95\u001b[0m \u001b[38;5;28;01mexcept\u001b[39;00m \u001b[38;5;167;01mAttributeError\u001b[39;00m:\n\u001b[0;32m     96\u001b[0m     \u001b[38;5;28;01mimport\u001b[39;00m \u001b[38;5;21;01mpygame\u001b[39;00m\u001b[38;5;21;01m.\u001b[39;00m\u001b[38;5;21;01m_numpysndarray\u001b[39;00m \u001b[38;5;28;01mas\u001b[39;00m \u001b[38;5;21;01mnumpysnd\u001b[39;00m\n\u001b[1;32m---> 97\u001b[0m     \u001b[38;5;28;01mreturn\u001b[39;00m \u001b[43mnumpysnd\u001b[49m\u001b[38;5;241;43m.\u001b[39;49m\u001b[43mmake_sound\u001b[49m\u001b[43m(\u001b[49m\u001b[43marray\u001b[49m\u001b[43m)\u001b[49m\n",
      "File \u001b[1;32m~\\anaconda3\\lib\\site-packages\\pygame\\_numpysndarray.py:74\u001b[0m, in \u001b[0;36mmake_sound\u001b[1;34m(array)\u001b[0m\n\u001b[0;32m     64\u001b[0m \u001b[38;5;28;01mdef\u001b[39;00m \u001b[38;5;21mmake_sound\u001b[39m(array):\n\u001b[0;32m     65\u001b[0m     \u001b[38;5;124;03m\"\"\"pygame._numpysndarray.make_sound(array): return Sound\u001b[39;00m\n\u001b[0;32m     66\u001b[0m \n\u001b[0;32m     67\u001b[0m \u001b[38;5;124;03m    Convert an array into a Sound object.\u001b[39;00m\n\u001b[1;32m   (...)\u001b[0m\n\u001b[0;32m     71\u001b[0m \u001b[38;5;124;03m    audio format.\u001b[39;00m\n\u001b[0;32m     72\u001b[0m \u001b[38;5;124;03m    \"\"\"\u001b[39;00m\n\u001b[1;32m---> 74\u001b[0m     \u001b[38;5;28;01mreturn\u001b[39;00m \u001b[43mmixer\u001b[49m\u001b[38;5;241;43m.\u001b[39;49m\u001b[43mSound\u001b[49m\u001b[43m(\u001b[49m\u001b[43marray\u001b[49m\u001b[38;5;241;43m=\u001b[39;49m\u001b[43marray\u001b[49m\u001b[43m)\u001b[49m\n",
      "\u001b[1;31mValueError\u001b[0m: Array must be 2-dimensional for stereo mixer"
     ]
    }
   ],
   "source": [
    "import math\n",
    "import stdaudio\n",
    "import stdarray\n",
    "SPS = 44100                   # samples per second\n",
    "hz = 440.0                    # concert A\n",
    "duration = 10.0               # ten seconds\n",
    "n = int(SPS * duration)\n",
    "a = stdarray.create2D(2,n+1)\n",
    "for i in range(n+1):\n",
    "    a[0][i] = math.sin(2.0 * math.pi * i * hz / SPS)\n",
    "    a[1][i] = a[0][i]\n",
    "stdaudio.playSamples(a)\n",
    "stdaudio.wait()"
   ]
  },
  {
   "cell_type": "code",
   "execution_count": null,
   "id": "9c4c7134",
   "metadata": {},
   "outputs": [],
   "source": []
  }
 ],
 "metadata": {
  "kernelspec": {
   "display_name": "Python 3 (ipykernel)",
   "language": "python",
   "name": "python3"
  },
  "language_info": {
   "codemirror_mode": {
    "name": "ipython",
    "version": 3
   },
   "file_extension": ".py",
   "mimetype": "text/x-python",
   "name": "python",
   "nbconvert_exporter": "python",
   "pygments_lexer": "ipython3",
   "version": "3.8.8"
  }
 },
 "nbformat": 4,
 "nbformat_minor": 5
}
