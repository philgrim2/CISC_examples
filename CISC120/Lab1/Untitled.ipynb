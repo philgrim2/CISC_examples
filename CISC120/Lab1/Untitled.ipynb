{
 "cells": [
  {
   "cell_type": "code",
   "execution_count": 2,
   "id": "c711bc23",
   "metadata": {},
   "outputs": [
    {
     "name": "stdout",
     "output_type": "stream",
     "text": [
      "0: 1\n",
      "1: 2\n",
      "2: 3\n",
      "3: 4\n"
     ]
    }
   ],
   "source": [
    "import stdio\n",
    "\n",
    "x = [1, 2, 3, 4]\n",
    "\n",
    "for i in range(len(x)):\n",
    "    stdio.writeln(str(i) + ': ' + str(x[i]))    "
   ]
  },
  {
   "cell_type": "code",
   "execution_count": 3,
   "id": "da241809",
   "metadata": {},
   "outputs": [
    {
     "name": "stdout",
     "output_type": "stream",
     "text": [
      "1\n",
      "2\n",
      "3\n",
      "4\n"
     ]
    }
   ],
   "source": [
    "for i in x:\n",
    "    stdio.writeln(i)"
   ]
  },
  {
   "cell_type": "code",
   "execution_count": 7,
   "id": "9436719f",
   "metadata": {},
   "outputs": [
    {
     "name": "stdout",
     "output_type": "stream",
     "text": [
      "[0, 1, 2, 3, 4, 5, 6, 7, 8, 9]\n"
     ]
    }
   ],
   "source": [
    "x = []\n",
    "for i in range(10):\n",
    "    x += [i]\n",
    "    \n",
    "stdio.writeln(x)"
   ]
  },
  {
   "cell_type": "code",
   "execution_count": 8,
   "id": "7134b96b",
   "metadata": {},
   "outputs": [
    {
     "name": "stdout",
     "output_type": "stream",
     "text": [
      "[0, 1, 2, 3, 4, 5, 6, 7, 8]\n"
     ]
    }
   ],
   "source": [
    "x.remove(9)\n",
    "stdio.writeln(x)"
   ]
  },
  {
   "cell_type": "code",
   "execution_count": 9,
   "id": "96e7a562",
   "metadata": {},
   "outputs": [
    {
     "name": "stdout",
     "output_type": "stream",
     "text": [
      "[0, 1, 2, 3, 'apple', 5, 6, 7, 8]\n"
     ]
    }
   ],
   "source": [
    "x[4] = \"apple\"\n",
    "stdio.writeln(x)"
   ]
  },
  {
   "cell_type": "code",
   "execution_count": 10,
   "id": "d50e3593",
   "metadata": {},
   "outputs": [
    {
     "data": {
      "text/plain": [
       "9"
      ]
     },
     "execution_count": 10,
     "metadata": {},
     "output_type": "execute_result"
    }
   ],
   "source": [
    "len(x)"
   ]
  },
  {
   "cell_type": "code",
   "execution_count": 11,
   "id": "b1222ea2",
   "metadata": {},
   "outputs": [
    {
     "ename": "TypeError",
     "evalue": "unsupported operand type(s) for +: 'int' and 'str'",
     "output_type": "error",
     "traceback": [
      "\u001b[1;31m---------------------------------------------------------------------------\u001b[0m",
      "\u001b[1;31mTypeError\u001b[0m                                 Traceback (most recent call last)",
      "Cell \u001b[1;32mIn[11], line 1\u001b[0m\n\u001b[1;32m----> 1\u001b[0m \u001b[38;5;28;43msum\u001b[39;49m\u001b[43m(\u001b[49m\u001b[43mx\u001b[49m\u001b[43m)\u001b[49m\n",
      "\u001b[1;31mTypeError\u001b[0m: unsupported operand type(s) for +: 'int' and 'str'"
     ]
    }
   ],
   "source": [
    "sum(x)"
   ]
  },
  {
   "cell_type": "code",
   "execution_count": 12,
   "id": "cee3ba2b",
   "metadata": {},
   "outputs": [],
   "source": [
    "x.remove('apple')"
   ]
  },
  {
   "cell_type": "code",
   "execution_count": 13,
   "id": "a1873ac5",
   "metadata": {},
   "outputs": [
    {
     "data": {
      "text/plain": [
       "32"
      ]
     },
     "execution_count": 13,
     "metadata": {},
     "output_type": "execute_result"
    }
   ],
   "source": [
    "sum(x)"
   ]
  },
  {
   "cell_type": "code",
   "execution_count": 14,
   "id": "726fa17a",
   "metadata": {},
   "outputs": [
    {
     "data": {
      "text/plain": [
       "8"
      ]
     },
     "execution_count": 14,
     "metadata": {},
     "output_type": "execute_result"
    }
   ],
   "source": [
    "max(x)"
   ]
  },
  {
   "cell_type": "code",
   "execution_count": 15,
   "id": "50f18464",
   "metadata": {},
   "outputs": [
    {
     "data": {
      "text/plain": [
       "0"
      ]
     },
     "execution_count": 15,
     "metadata": {},
     "output_type": "execute_result"
    }
   ],
   "source": [
    "min(x)"
   ]
  },
  {
   "cell_type": "code",
   "execution_count": 16,
   "id": "5425e651",
   "metadata": {},
   "outputs": [
    {
     "name": "stdout",
     "output_type": "stream",
     "text": [
      "8\n",
      "0 1 2 3 5 6 7 8 \n"
     ]
    }
   ],
   "source": [
    "import stdarray\n",
    "\n",
    "stdarray.write1D(x)"
   ]
  },
  {
   "cell_type": "code",
   "execution_count": 17,
   "id": "ecbe8b7f",
   "metadata": {},
   "outputs": [
    {
     "name": "stdout",
     "output_type": "stream",
     "text": [
      "10\n",
      "0 0 0 0 0 0 0 0 0 0 \n"
     ]
    }
   ],
   "source": [
    "l = []\n",
    "for i in range(10):\n",
    "    l.append(0)\n",
    "    \n",
    "stdarray.write1D(l)"
   ]
  },
  {
   "cell_type": "code",
   "execution_count": 18,
   "id": "01490de3",
   "metadata": {},
   "outputs": [
    {
     "name": "stdout",
     "output_type": "stream",
     "text": [
      "10\n",
      "0 0 0 0 0 0 0 0 0 0 \n"
     ]
    }
   ],
   "source": [
    "l = stdarray.create1D(10,0)\n",
    "    \n",
    "stdarray.write1D(l)"
   ]
  },
  {
   "cell_type": "code",
   "execution_count": 19,
   "id": "77b18f0b",
   "metadata": {},
   "outputs": [
    {
     "name": "stdout",
     "output_type": "stream",
     "text": [
      "10\n",
      "0 0 0 0 0 0 0 0 0 0 \n"
     ]
    }
   ],
   "source": [
    "l = [0] * 10\n",
    "stdarray.write1D(l)"
   ]
  },
  {
   "cell_type": "code",
   "execution_count": 21,
   "id": "4cf512bc",
   "metadata": {},
   "outputs": [
    {
     "name": "stdout",
     "output_type": "stream",
     "text": [
      "[[1, 2, 3], [4, 5, 6], [7, 8, 9]]\n",
      "5\n"
     ]
    }
   ],
   "source": [
    "a = [1, 2, 3]\n",
    "b = [4, 5, 6]\n",
    "c = [7, 8, 9]\n",
    "\n",
    "d = [a, b, c]\n",
    "\n",
    "stdio.writeln(d)\n",
    "\n",
    "stdio.writeln(d[1][1])"
   ]
  },
  {
   "cell_type": "code",
   "execution_count": 22,
   "id": "44728c26",
   "metadata": {},
   "outputs": [
    {
     "name": "stdout",
     "output_type": "stream",
     "text": [
      "3 3\n",
      "1 2 3 \n",
      "4 22 6 \n",
      "7 8 9 \n"
     ]
    }
   ],
   "source": [
    "d[1][1] = \"22\"\n",
    "\n",
    "stdarray.write2D(d)"
   ]
  },
  {
   "cell_type": "code",
   "execution_count": 23,
   "id": "f2907e37",
   "metadata": {},
   "outputs": [
    {
     "name": "stdout",
     "output_type": "stream",
     "text": [
      "1 2 3 \n",
      "4 22 6 \n",
      "7 8 9 \n"
     ]
    }
   ],
   "source": [
    "for row in d:\n",
    "    for column in row:\n",
    "        stdio.write(str(column) + \" \")\n",
    "    stdio.writeln()"
   ]
  },
  {
   "cell_type": "code",
   "execution_count": 24,
   "id": "6931b7de",
   "metadata": {},
   "outputs": [
    {
     "name": "stdout",
     "output_type": "stream",
     "text": [
      "[[True, True, True, True, True, True, True, True, True, True, True, True, True, True, True, True, True, True, True, True], [True, True, True, True, True, True, True, True, True, True, True, True, True, True, True, True, True, True, True, True], [True, True, True, True, True, True, True, True, True, True, True, True, True, True, True, True, True, True, True, True], [True, True, True, True, True, True, True, True, True, True, True, True, True, True, True, True, True, True, True, True], [True, True, True, True, True, True, True, True, True, True, True, True, True, True, True, True, True, True, True, True], [True, True, True, True, True, True, True, True, True, True, True, True, True, True, True, True, True, True, True, True], [True, True, True, True, True, True, True, True, True, True, True, True, True, True, True, True, True, True, True, True], [True, True, True, True, True, True, True, True, True, True, True, True, True, True, True, True, True, True, True, True]]\n"
     ]
    }
   ],
   "source": [
    "e = stdarray.create2D(8,20, True)\n",
    "stdio.writeln(e)"
   ]
  },
  {
   "cell_type": "code",
   "execution_count": 25,
   "id": "ecddfda6",
   "metadata": {},
   "outputs": [
    {
     "name": "stdout",
     "output_type": "stream",
     "text": [
      "[0, 1, 2, 3, 5, 6, 7, 8]\n"
     ]
    }
   ],
   "source": [
    "print(x)"
   ]
  },
  {
   "cell_type": "code",
   "execution_count": 28,
   "id": "68d49660",
   "metadata": {},
   "outputs": [
    {
     "name": "stdout",
     "output_type": "stream",
     "text": [
      "[8, 6, 3]"
     ]
    }
   ],
   "source": [
    "stdio.write(x[7:1:-2])"
   ]
  },
  {
   "cell_type": "code",
   "execution_count": 29,
   "id": "bc860ba2",
   "metadata": {},
   "outputs": [],
   "source": [
    "SUITS = ['Clubs', 'Diamonds', 'Hearts', 'Spades']\n",
    "RANKS = ['2', '3', '4', '5', '6', '7', '8', '9', '10',\n",
    "         'Jack', 'Queen', 'King', 'Ace']"
   ]
  },
  {
   "cell_type": "code",
   "execution_count": 35,
   "id": "9692f632",
   "metadata": {},
   "outputs": [
    {
     "name": "stdout",
     "output_type": "stream",
     "text": [
      "5 of Spades\n"
     ]
    }
   ],
   "source": [
    "import random\n",
    "rank = random.randrange(0, len(RANKS))\n",
    "suit = random.randrange(0, len(SUITS))\n",
    "stdio.writeln(RANKS[rank] + ' of ' + SUITS[suit])"
   ]
  },
  {
   "cell_type": "code",
   "execution_count": 36,
   "id": "86807735",
   "metadata": {},
   "outputs": [
    {
     "name": "stdout",
     "output_type": "stream",
     "text": [
      "['2 of Clubs', '3 of Clubs', '4 of Clubs', '5 of Clubs', '6 of Clubs', '7 of Clubs', '8 of Clubs', '9 of Clubs', '10 of Clubs', 'Jack of Clubs', 'Queen of Clubs', 'King of Clubs', 'Ace of Clubs', '2 of Diamonds', '3 of Diamonds', '4 of Diamonds', '5 of Diamonds', '6 of Diamonds', '7 of Diamonds', '8 of Diamonds', '9 of Diamonds', '10 of Diamonds', 'Jack of Diamonds', 'Queen of Diamonds', 'King of Diamonds', 'Ace of Diamonds', '2 of Hearts', '3 of Hearts', '4 of Hearts', '5 of Hearts', '6 of Hearts', '7 of Hearts', '8 of Hearts', '9 of Hearts', '10 of Hearts', 'Jack of Hearts', 'Queen of Hearts', 'King of Hearts', 'Ace of Hearts', '2 of Spades', '3 of Spades', '4 of Spades', '5 of Spades', '6 of Spades', '7 of Spades', '8 of Spades', '9 of Spades', '10 of Spades', 'Jack of Spades', 'Queen of Spades', 'King of Spades', 'Ace of Spades']\n"
     ]
    }
   ],
   "source": [
    "deck = []\n",
    "for suit in SUITS:\n",
    "    for rank in RANKS:\n",
    "        card = rank + ' of ' + suit\n",
    "        deck += [card]\n",
    "stdio.writeln(deck)"
   ]
  },
  {
   "cell_type": "code",
   "execution_count": 40,
   "id": "8ff9dd5f",
   "metadata": {},
   "outputs": [
    {
     "name": "stdout",
     "output_type": "stream",
     "text": [
      "['Jack of Hearts', '4 of Diamonds', '2 of Spades', 'King of Diamonds', '8 of Clubs', '9 of Diamonds', 'Ace of Hearts', 'Queen of Spades', '9 of Spades', '3 of Diamonds', '8 of Hearts', '2 of Diamonds', '10 of Clubs', '5 of Diamonds', 'Ace of Diamonds', '4 of Spades', '7 of Spades', '7 of Clubs', '2 of Clubs', '5 of Hearts', '8 of Diamonds', '3 of Spades', '5 of Spades', 'Jack of Clubs', '2 of Hearts', '5 of Clubs', '6 of Spades', '3 of Hearts', 'King of Spades', '3 of Clubs', '7 of Diamonds', 'Queen of Hearts', '6 of Clubs', 'King of Hearts', 'Queen of Clubs', 'Jack of Spades', 'Queen of Diamonds', '4 of Clubs', 'King of Clubs', '4 of Hearts', '6 of Hearts', '9 of Hearts', '9 of Clubs', '6 of Diamonds', '10 of Hearts', 'Ace of Spades', '10 of Diamonds', '7 of Hearts', 'Ace of Clubs', '8 of Spades', '10 of Spades', 'Jack of Diamonds']\n"
     ]
    }
   ],
   "source": [
    "n = len(deck)\n",
    "for i in range(n):\n",
    "    r = random.randrange(i, n)\n",
    "    temp = deck[r]\n",
    "    deck[r] = deck[i]\n",
    "    deck[i] = temp\n",
    "    \n",
    "stdio.writeln(deck)"
   ]
  },
  {
   "cell_type": "code",
   "execution_count": 44,
   "id": "a22f6374",
   "metadata": {},
   "outputs": [
    {
     "name": "stdout",
     "output_type": "stream",
     "text": [
      "['3 of Hearts', '4 of Hearts', '6 of Hearts', 'Queen of Clubs', 'Jack of Clubs', '7 of Diamonds', '3 of Diamonds', '8 of Spades', '9 of Clubs', '5 of Clubs', '7 of Spades', 'King of Spades', '2 of Clubs', 'Queen of Diamonds', 'Jack of Hearts', '8 of Diamonds', '3 of Clubs', '5 of Hearts', '4 of Spades', '7 of Clubs', 'King of Hearts', 'Queen of Spades', 'King of Diamonds', 'Ace of Clubs', 'Jack of Diamonds', '8 of Hearts', '9 of Spades', '6 of Clubs', '2 of Hearts', '6 of Diamonds', 'Ace of Hearts', '10 of Spades', '4 of Diamonds', 'King of Clubs', '2 of Diamonds', 'Queen of Hearts', '4 of Clubs', '9 of Diamonds', 'Ace of Spades', '7 of Hearts', '5 of Spades', '10 of Hearts', '10 of Diamonds', 'Ace of Diamonds', '3 of Spades', '5 of Diamonds', '9 of Hearts', '2 of Spades', '8 of Clubs', '6 of Spades', '10 of Clubs', 'Jack of Spades']\n"
     ]
    }
   ],
   "source": [
    "random.shuffle(deck)\n",
    "stdio.writeln(deck)"
   ]
  },
  {
   "cell_type": "code",
   "execution_count": 45,
   "id": "101d4357",
   "metadata": {},
   "outputs": [
    {
     "name": "stdout",
     "output_type": "stream",
     "text": [
      "34 273 292 126 100 10 178 132 \n"
     ]
    }
   ],
   "source": [
    "m = 8\n",
    "n = 400\n",
    "\n",
    "# Initialize perm.\n",
    "perm = stdarray.create1D(n, 0)\n",
    "for i in range(n):\n",
    "    perm[i] = i\n",
    "\n",
    "# Create random sample in perm[0], perm[1], ..., perm[m-1]\n",
    "for i in range(m):\n",
    "\n",
    "    # Choose a random integer r between i and n-1.\n",
    "    r = random.randrange(i, n)\n",
    "\n",
    "    # Swap perm[i] and perm[r].\n",
    "    temp = perm[r]\n",
    "    perm[r] = perm[i]\n",
    "    perm[i] = temp\n",
    "\n",
    "# Write the results.\n",
    "for i in range(m):\n",
    "    stdio.write(str(perm[i]) + ' ')\n",
    "stdio.writeln()\n"
   ]
  },
  {
   "cell_type": "code",
   "execution_count": 46,
   "id": "b8065b82",
   "metadata": {},
   "outputs": [
    {
     "name": "stdout",
     "output_type": "stream",
     "text": [
      "[34, 273, 292, 126, 100, 10, 178, 132, 8, 9, 5, 11, 12, 13, 14, 15, 16, 17, 18, 19, 20, 21, 22, 23, 24, 25, 26, 27, 28, 29, 30, 31, 32, 33, 0, 35, 36, 37, 38, 39, 40, 41, 42, 43, 44, 45, 46, 47, 48, 49, 50, 51, 52, 53, 54, 55, 56, 57, 58, 59, 60, 61, 62, 63, 64, 65, 66, 67, 68, 69, 70, 71, 72, 73, 74, 75, 76, 77, 78, 79, 80, 81, 82, 83, 84, 85, 86, 87, 88, 89, 90, 91, 92, 93, 94, 95, 96, 97, 98, 99, 4, 101, 102, 103, 104, 105, 106, 107, 108, 109, 110, 111, 112, 113, 114, 115, 116, 117, 118, 119, 120, 121, 122, 123, 124, 125, 3, 127, 128, 129, 130, 131, 7, 133, 134, 135, 136, 137, 138, 139, 140, 141, 142, 143, 144, 145, 146, 147, 148, 149, 150, 151, 152, 153, 154, 155, 156, 157, 158, 159, 160, 161, 162, 163, 164, 165, 166, 167, 168, 169, 170, 171, 172, 173, 174, 175, 176, 177, 6, 179, 180, 181, 182, 183, 184, 185, 186, 187, 188, 189, 190, 191, 192, 193, 194, 195, 196, 197, 198, 199, 200, 201, 202, 203, 204, 205, 206, 207, 208, 209, 210, 211, 212, 213, 214, 215, 216, 217, 218, 219, 220, 221, 222, 223, 224, 225, 226, 227, 228, 229, 230, 231, 232, 233, 234, 235, 236, 237, 238, 239, 240, 241, 242, 243, 244, 245, 246, 247, 248, 249, 250, 251, 252, 253, 254, 255, 256, 257, 258, 259, 260, 261, 262, 263, 264, 265, 266, 267, 268, 269, 270, 271, 272, 1, 274, 275, 276, 277, 278, 279, 280, 281, 282, 283, 284, 285, 286, 287, 288, 289, 290, 291, 2, 293, 294, 295, 296, 297, 298, 299, 300, 301, 302, 303, 304, 305, 306, 307, 308, 309, 310, 311, 312, 313, 314, 315, 316, 317, 318, 319, 320, 321, 322, 323, 324, 325, 326, 327, 328, 329, 330, 331, 332, 333, 334, 335, 336, 337, 338, 339, 340, 341, 342, 343, 344, 345, 346, 347, 348, 349, 350, 351, 352, 353, 354, 355, 356, 357, 358, 359, 360, 361, 362, 363, 364, 365, 366, 367, 368, 369, 370, 371, 372, 373, 374, 375, 376, 377, 378, 379, 380, 381, 382, 383, 384, 385, 386, 387, 388, 389, 390, 391, 392, 393, 394, 395, 396, 397, 398, 399]\n"
     ]
    }
   ],
   "source": [
    "stdio.writeln(perm)"
   ]
  },
  {
   "cell_type": "code",
   "execution_count": null,
   "id": "d50417e6",
   "metadata": {},
   "outputs": [],
   "source": []
  }
 ],
 "metadata": {
  "kernelspec": {
   "display_name": "Python 3 (ipykernel)",
   "language": "python",
   "name": "python3"
  },
  "language_info": {
   "codemirror_mode": {
    "name": "ipython",
    "version": 3
   },
   "file_extension": ".py",
   "mimetype": "text/x-python",
   "name": "python",
   "nbconvert_exporter": "python",
   "pygments_lexer": "ipython3",
   "version": "3.8.8"
  }
 },
 "nbformat": 4,
 "nbformat_minor": 5
}
