{
 "cells": [
  {
   "cell_type": "code",
   "execution_count": 2,
   "id": "fcebcf35",
   "metadata": {},
   "outputs": [
    {
     "name": "stdout",
     "output_type": "stream",
     "text": [
      "0: 1\n",
      "1: 2\n",
      "2: 3\n",
      "3: 4\n"
     ]
    }
   ],
   "source": [
    "import stdio\n",
    "\n",
    "x = [1, 2, 3, 4]\n",
    "\n",
    "for i in range(len(x)):\n",
    "    stdio.writeln(str(i) + ': ' + str(x[i]))    "
   ]
  },
  {
   "cell_type": "code",
   "execution_count": 3,
   "id": "cab5440c",
   "metadata": {},
   "outputs": [
    {
     "name": "stdout",
     "output_type": "stream",
     "text": [
      "1\n",
      "2\n",
      "3\n",
      "4\n"
     ]
    }
   ],
   "source": [
    "for i in x:\n",
    "    stdio.writeln(i)"
   ]
  },
  {
   "cell_type": "code",
   "execution_count": 7,
   "id": "55fcfe23",
   "metadata": {},
   "outputs": [
    {
     "name": "stdout",
     "output_type": "stream",
     "text": [
      "[0, 1, 2, 3, 4, 5, 6, 7, 8, 9]\n"
     ]
    }
   ],
   "source": [
    "x = []\n",
    "for i in range(10):\n",
    "    x += [i]\n",
    "    \n",
    "stdio.writeln(x)"
   ]
  },
  {
   "cell_type": "code",
   "execution_count": 8,
   "id": "ec250acf",
   "metadata": {},
   "outputs": [
    {
     "name": "stdout",
     "output_type": "stream",
     "text": [
      "[0, 1, 2, 3, 4, 5, 6, 7, 8]\n"
     ]
    }
   ],
   "source": [
    "x.remove(9)\n",
    "stdio.writeln(x)"
   ]
  },
  {
   "cell_type": "code",
   "execution_count": 9,
   "id": "57a74f3d",
   "metadata": {},
   "outputs": [
    {
     "name": "stdout",
     "output_type": "stream",
     "text": [
      "[0, 1, 2, 3, 'apple', 5, 6, 7, 8]\n"
     ]
    }
   ],
   "source": [
    "x[4] = \"apple\"\n",
    "stdio.writeln(x)"
   ]
  },
  {
   "cell_type": "code",
   "execution_count": 10,
   "id": "d9f0cdfc",
   "metadata": {},
   "outputs": [
    {
     "data": {
      "text/plain": [
       "9"
      ]
     },
     "execution_count": 10,
     "metadata": {},
     "output_type": "execute_result"
    }
   ],
   "source": [
    "len(x)"
   ]
  },
  {
   "cell_type": "code",
   "execution_count": 11,
   "id": "bb9ab651",
   "metadata": {},
   "outputs": [
    {
     "ename": "TypeError",
     "evalue": "unsupported operand type(s) for +: 'int' and 'str'",
     "output_type": "error",
     "traceback": [
      "\u001b[1;31m---------------------------------------------------------------------------\u001b[0m",
      "\u001b[1;31mTypeError\u001b[0m                                 Traceback (most recent call last)",
      "Cell \u001b[1;32mIn[11], line 1\u001b[0m\n\u001b[1;32m----> 1\u001b[0m \u001b[38;5;28;43msum\u001b[39;49m\u001b[43m(\u001b[49m\u001b[43mx\u001b[49m\u001b[43m)\u001b[49m\n",
      "\u001b[1;31mTypeError\u001b[0m: unsupported operand type(s) for +: 'int' and 'str'"
     ]
    }
   ],
   "source": [
    "sum(x)"
   ]
  },
  {
   "cell_type": "code",
   "execution_count": 12,
   "id": "ba7e23c8",
   "metadata": {},
   "outputs": [],
   "source": [
    "x.remove('apple')"
   ]
  },
  {
   "cell_type": "code",
   "execution_count": 13,
   "id": "c891ed9f",
   "metadata": {},
   "outputs": [
    {
     "data": {
      "text/plain": [
       "32"
      ]
     },
     "execution_count": 13,
     "metadata": {},
     "output_type": "execute_result"
    }
   ],
   "source": [
    "sum(x)"
   ]
  },
  {
   "cell_type": "code",
   "execution_count": 14,
   "id": "a9b53527",
   "metadata": {},
   "outputs": [
    {
     "data": {
      "text/plain": [
       "8"
      ]
     },
     "execution_count": 14,
     "metadata": {},
     "output_type": "execute_result"
    }
   ],
   "source": [
    "max(x)"
   ]
  },
  {
   "cell_type": "code",
   "execution_count": 15,
   "id": "951bccce",
   "metadata": {},
   "outputs": [
    {
     "data": {
      "text/plain": [
       "0"
      ]
     },
     "execution_count": 15,
     "metadata": {},
     "output_type": "execute_result"
    }
   ],
   "source": [
    "min(x)"
   ]
  },
  {
   "cell_type": "code",
   "execution_count": 16,
   "id": "9c2f2bd6",
   "metadata": {},
   "outputs": [
    {
     "name": "stdout",
     "output_type": "stream",
     "text": [
      "8\n",
      "0 1 2 3 5 6 7 8 \n"
     ]
    }
   ],
   "source": [
    "import stdarray\n",
    "\n",
    "stdarray.write1D(x)"
   ]
  },
  {
   "cell_type": "code",
   "execution_count": 17,
   "id": "2c394ec2",
   "metadata": {},
   "outputs": [
    {
     "name": "stdout",
     "output_type": "stream",
     "text": [
      "10\n",
      "0 0 0 0 0 0 0 0 0 0 \n"
     ]
    }
   ],
   "source": [
    "l = []\n",
    "for i in range(10):\n",
    "    l.append(0)\n",
    "    \n",
    "stdarray.write1D(l)"
   ]
  },
  {
   "cell_type": "code",
   "execution_count": 18,
   "id": "592fb4ec",
   "metadata": {},
   "outputs": [
    {
     "name": "stdout",
     "output_type": "stream",
     "text": [
      "10\n",
      "0 0 0 0 0 0 0 0 0 0 \n"
     ]
    }
   ],
   "source": [
    "l = stdarray.create1D(10,0)\n",
    "    \n",
    "stdarray.write1D(l)"
   ]
  },
  {
   "cell_type": "code",
   "execution_count": 19,
   "id": "3776b616",
   "metadata": {},
   "outputs": [
    {
     "name": "stdout",
     "output_type": "stream",
     "text": [
      "10\n",
      "0 0 0 0 0 0 0 0 0 0 \n"
     ]
    }
   ],
   "source": [
    "l = [0] * 10\n",
    "stdarray.write1D(l)"
   ]
  },
  {
   "cell_type": "code",
   "execution_count": 21,
   "id": "94e846ea",
   "metadata": {},
   "outputs": [
    {
     "name": "stdout",
     "output_type": "stream",
     "text": [
      "[[1, 2, 3], [4, 5, 6], [7, 8, 9]]\n",
      "5\n"
     ]
    }
   ],
   "source": [
    "a = [1, 2, 3]\n",
    "b = [4, 5, 6]\n",
    "c = [7, 8, 9]\n",
    "\n",
    "d = [a, b, c]\n",
    "\n",
    "stdio.writeln(d)\n",
    "\n",
    "stdio.writeln(d[1][1])"
   ]
  },
  {
   "cell_type": "code",
   "execution_count": 22,
   "id": "3089da0b",
   "metadata": {},
   "outputs": [
    {
     "name": "stdout",
     "output_type": "stream",
     "text": [
      "3 3\n",
      "1 2 3 \n",
      "4 22 6 \n",
      "7 8 9 \n"
     ]
    }
   ],
   "source": [
    "d[1][1] = \"22\"\n",
    "\n",
    "stdarray.write2D(d)"
   ]
  },
  {
   "cell_type": "code",
   "execution_count": 23,
   "id": "9e447820",
   "metadata": {},
   "outputs": [
    {
     "name": "stdout",
     "output_type": "stream",
     "text": [
      "1 2 3 \n",
      "4 22 6 \n",
      "7 8 9 \n"
     ]
    }
   ],
   "source": [
    "for row in d:\n",
    "    for column in row:\n",
    "        stdio.write(str(column) + \" \")\n",
    "    stdio.writeln()"
   ]
  },
  {
   "cell_type": "code",
   "execution_count": 24,
   "id": "fd600484",
   "metadata": {},
   "outputs": [
    {
     "name": "stdout",
     "output_type": "stream",
     "text": [
      "[[True, True, True, True, True, True, True, True, True, True, True, True, True, True, True, True, True, True, True, True], [True, True, True, True, True, True, True, True, True, True, True, True, True, True, True, True, True, True, True, True], [True, True, True, True, True, True, True, True, True, True, True, True, True, True, True, True, True, True, True, True], [True, True, True, True, True, True, True, True, True, True, True, True, True, True, True, True, True, True, True, True], [True, True, True, True, True, True, True, True, True, True, True, True, True, True, True, True, True, True, True, True], [True, True, True, True, True, True, True, True, True, True, True, True, True, True, True, True, True, True, True, True], [True, True, True, True, True, True, True, True, True, True, True, True, True, True, True, True, True, True, True, True], [True, True, True, True, True, True, True, True, True, True, True, True, True, True, True, True, True, True, True, True]]\n"
     ]
    }
   ],
   "source": [
    "e = stdarray.create2D(8,20, True)\n",
    "stdio.writeln(e)"
   ]
  },
  {
   "cell_type": "code",
   "execution_count": 25,
   "id": "51a02a0a",
   "metadata": {},
   "outputs": [
    {
     "name": "stdout",
     "output_type": "stream",
     "text": [
      "[0, 1, 2, 3, 5, 6, 7, 8]\n"
     ]
    }
   ],
   "source": [
    "print(x)"
   ]
  },
  {
   "cell_type": "code",
   "execution_count": 28,
   "id": "7170632e",
   "metadata": {},
   "outputs": [
    {
     "name": "stdout",
     "output_type": "stream",
     "text": [
      "[8, 6, 3]"
     ]
    }
   ],
   "source": [
    "stdio.write(x[7:1:-2])"
   ]
  },
  {
   "cell_type": "code",
   "execution_count": 29,
   "id": "f59d8d27",
   "metadata": {},
   "outputs": [],
   "source": [
    "SUITS = ['Clubs', 'Diamonds', 'Hearts', 'Spades']\n",
    "RANKS = ['2', '3', '4', '5', '6', '7', '8', '9', '10',\n",
    "         'Jack', 'Queen', 'King', 'Ace']"
   ]
  },
  {
   "cell_type": "code",
   "execution_count": 35,
   "id": "9c8e71b7",
   "metadata": {},
   "outputs": [
    {
     "name": "stdout",
     "output_type": "stream",
     "text": [
      "5 of Spades\n"
     ]
    }
   ],
   "source": [
    "import random\n",
    "rank = random.randrange(0, len(RANKS))\n",
    "suit = random.randrange(0, len(SUITS))\n",
    "stdio.writeln(RANKS[rank] + ' of ' + SUITS[suit])"
   ]
  },
  {
   "cell_type": "code",
   "execution_count": null,
   "id": "e69ddfa6",
   "metadata": {},
   "outputs": [],
   "source": [
    "deck = []\n",
    "for suit in SUITS:\n",
    "    for rank in RANKS:\n",
    "        card = rank + ' of ' + suit\n",
    "        deck += [card]"
   ]
  }
 ],
 "metadata": {
  "kernelspec": {
   "display_name": "Python 3 (ipykernel)",
   "language": "python",
   "name": "python3"
  },
  "language_info": {
   "codemirror_mode": {
    "name": "ipython",
    "version": 3
   },
   "file_extension": ".py",
   "mimetype": "text/x-python",
   "name": "python",
   "nbconvert_exporter": "python",
   "pygments_lexer": "ipython3",
   "version": "3.8.8"
  }
 },
 "nbformat": 4,
 "nbformat_minor": 5
}
